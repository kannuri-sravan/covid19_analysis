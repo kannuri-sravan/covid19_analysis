{
 "cells": [
  {
   "cell_type": "markdown",
   "metadata": {},
   "source": [
    "# COVID-19 Data Analysis"
   ]
  },
  {
   "cell_type": "code",
   "execution_count": 1,
   "metadata": {},
   "outputs": [],
   "source": [
    "import numpy as num\n",
    "import pandas as pd\n",
    "import matplotlib.pyplot as plt\n",
    "import seaborn as sns\n",
    "%matplotlib inline"
   ]
  },
  {
   "cell_type": "markdown",
   "metadata": {},
   "source": [
    "## 1) Business Understanding\n",
    "\n",
    "[Shravan MEDIUM BLOG URL COVID-19](https://medium.com/@shravank/covid-19-impact-on-the-usa-b51213ad4ff7)\n",
    "\n",
    "This code helps in analysis current Corona situation in USA like reasons for Spread, Death Rates and Predicts Future Hotspots.\n",
    "\n",
    "Can we get answers for following question from data ?\n",
    "\n",
    "1. What are the parameters for the spread of COVID-19?\n",
    "2. What are the most death rate states in the USA and why?\n",
    "3. Which states are going to be next hotspots in the USA?"
   ]
  },
  {
   "cell_type": "markdown",
   "metadata": {},
   "source": [
    "## 2) Data Understanding"
   ]
  },
  {
   "cell_type": "code",
   "execution_count": 2,
   "metadata": {},
   "outputs": [],
   "source": [
    "def dataload(path,index_column):\n",
    "    \"\"\"Helps to load the from csv and return dataframe.\n",
    "    Keyword arguments:\n",
    "    path -- path of the file\n",
    "    imag -- index column name\n",
    "    \"\"\"\n",
    "    df = pd.read_csv(path,index_col=index_column)\n",
    "    return df"
   ]
  },
  {
   "cell_type": "markdown",
   "metadata": {},
   "source": [
    "#### Gather data"
   ]
  },
  {
   "cell_type": "code",
   "execution_count": 3,
   "metadata": {},
   "outputs": [],
   "source": [
    "covid_df = dataload('./covid19_usa.csv','State')\n",
    "sensus_df = dataload('./population_state_usa.csv','State')"
   ]
  },
  {
   "cell_type": "code",
   "execution_count": 4,
   "metadata": {},
   "outputs": [],
   "source": [
    "#Merging two datasets\n",
    "df = covid_df.join(sensus_df)"
   ]
  },
  {
   "cell_type": "code",
   "execution_count": 5,
   "metadata": {},
   "outputs": [
    {
     "data": {
      "text/html": [
       "<div>\n",
       "<style scoped>\n",
       "    .dataframe tbody tr th:only-of-type {\n",
       "        vertical-align: middle;\n",
       "    }\n",
       "\n",
       "    .dataframe tbody tr th {\n",
       "        vertical-align: top;\n",
       "    }\n",
       "\n",
       "    .dataframe thead th {\n",
       "        text-align: right;\n",
       "    }\n",
       "</style>\n",
       "<table border=\"1\" class=\"dataframe\">\n",
       "  <thead>\n",
       "    <tr style=\"text-align: right;\">\n",
       "      <th></th>\n",
       "      <th>Total Cases</th>\n",
       "      <th>New Cases</th>\n",
       "      <th>Total Deaths</th>\n",
       "      <th>New Deaths</th>\n",
       "      <th>Active Cases</th>\n",
       "      <th>rank</th>\n",
       "      <th>Population</th>\n",
       "      <th>MedianAge</th>\n",
       "      <th>MedianAgeMale</th>\n",
       "      <th>MedianAgeFemale</th>\n",
       "    </tr>\n",
       "    <tr>\n",
       "      <th>State</th>\n",
       "      <th></th>\n",
       "      <th></th>\n",
       "      <th></th>\n",
       "      <th></th>\n",
       "      <th></th>\n",
       "      <th></th>\n",
       "      <th></th>\n",
       "      <th></th>\n",
       "      <th></th>\n",
       "      <th></th>\n",
       "    </tr>\n",
       "  </thead>\n",
       "  <tbody>\n",
       "    <tr>\n",
       "      <th>New York</th>\n",
       "      <td>60,679</td>\n",
       "      <td>7,286</td>\n",
       "      <td>1,063</td>\n",
       "      <td>180.0</td>\n",
       "      <td>56,044</td>\n",
       "      <td>21.0</td>\n",
       "      <td>19618453.0</td>\n",
       "      <td>38.7</td>\n",
       "      <td>37.1</td>\n",
       "      <td>40.2</td>\n",
       "    </tr>\n",
       "    <tr>\n",
       "      <th>New Jersey</th>\n",
       "      <td>13,386</td>\n",
       "      <td>2,262</td>\n",
       "      <td>161</td>\n",
       "      <td>21.0</td>\n",
       "      <td>13,225</td>\n",
       "      <td>11.0</td>\n",
       "      <td>8881845.0</td>\n",
       "      <td>39.8</td>\n",
       "      <td>38.2</td>\n",
       "      <td>41.4</td>\n",
       "    </tr>\n",
       "    <tr>\n",
       "      <th>California</th>\n",
       "      <td>6,204</td>\n",
       "      <td>655</td>\n",
       "      <td>131</td>\n",
       "      <td>12.0</td>\n",
       "      <td>6,052</td>\n",
       "      <td>45.0</td>\n",
       "      <td>39148760.0</td>\n",
       "      <td>36.3</td>\n",
       "      <td>35.2</td>\n",
       "      <td>37.5</td>\n",
       "    </tr>\n",
       "    <tr>\n",
       "      <th>Michigan</th>\n",
       "      <td>5,486</td>\n",
       "      <td>836</td>\n",
       "      <td>132</td>\n",
       "      <td>21.0</td>\n",
       "      <td>5,349</td>\n",
       "      <td>12.0</td>\n",
       "      <td>9957488.0</td>\n",
       "      <td>39.7</td>\n",
       "      <td>38.2</td>\n",
       "      <td>41.0</td>\n",
       "    </tr>\n",
       "    <tr>\n",
       "      <th>Massachusetts</th>\n",
       "      <td>4,955</td>\n",
       "      <td>698</td>\n",
       "      <td>48</td>\n",
       "      <td>4.0</td>\n",
       "      <td>4,906</td>\n",
       "      <td>13.0</td>\n",
       "      <td>6830193.0</td>\n",
       "      <td>39.4</td>\n",
       "      <td>37.9</td>\n",
       "      <td>40.9</td>\n",
       "    </tr>\n",
       "  </tbody>\n",
       "</table>\n",
       "</div>"
      ],
      "text/plain": [
       "              Total Cases New Cases Total Deaths  New Deaths Active Cases  \\\n",
       "State                                                                       \n",
       "New York           60,679     7,286        1,063       180.0       56,044   \n",
       "New Jersey         13,386     2,262          161        21.0       13,225   \n",
       "California          6,204       655          131        12.0        6,052   \n",
       "Michigan            5,486       836          132        21.0        5,349   \n",
       "Massachusetts       4,955       698           48         4.0        4,906   \n",
       "\n",
       "               rank  Population  MedianAge  MedianAgeMale  MedianAgeFemale  \n",
       "State                                                                       \n",
       "New York       21.0  19618453.0       38.7           37.1             40.2  \n",
       "New Jersey     11.0   8881845.0       39.8           38.2             41.4  \n",
       "California     45.0  39148760.0       36.3           35.2             37.5  \n",
       "Michigan       12.0   9957488.0       39.7           38.2             41.0  \n",
       "Massachusetts  13.0   6830193.0       39.4           37.9             40.9  "
      ]
     },
     "execution_count": 5,
     "metadata": {},
     "output_type": "execute_result"
    }
   ],
   "source": [
    "df.head()"
   ]
  },
  {
   "cell_type": "markdown",
   "metadata": {},
   "source": [
    "#### Access"
   ]
  },
  {
   "cell_type": "code",
   "execution_count": 6,
   "metadata": {},
   "outputs": [
    {
     "name": "stdout",
     "output_type": "stream",
     "text": [
      "There are 58 states and 10 attributes\n"
     ]
    }
   ],
   "source": [
    "num_rows = df.shape[0] # number of rows is equivalent to number of players \n",
    "num_columns = df.shape[1]\n",
    "print('There are {} states and {} attributes'.format(num_rows,num_columns))"
   ]
  },
  {
   "cell_type": "code",
   "execution_count": 7,
   "metadata": {},
   "outputs": [
    {
     "data": {
      "text/plain": [
       "Index(['Total Cases', 'New Cases', 'Total Deaths', 'New Deaths',\n",
       "       'Active Cases', 'rank', 'Population', 'MedianAge', 'MedianAgeMale',\n",
       "       'MedianAgeFemale'],\n",
       "      dtype='object')"
      ]
     },
     "execution_count": 7,
     "metadata": {},
     "output_type": "execute_result"
    }
   ],
   "source": [
    "# attributes for each player entry\n",
    "df.columns"
   ]
  },
  {
   "cell_type": "markdown",
   "metadata": {},
   "source": [
    "#### Missing values in each column"
   ]
  },
  {
   "cell_type": "code",
   "execution_count": 8,
   "metadata": {},
   "outputs": [
    {
     "data": {
      "text/html": [
       "<div>\n",
       "<style scoped>\n",
       "    .dataframe tbody tr th:only-of-type {\n",
       "        vertical-align: middle;\n",
       "    }\n",
       "\n",
       "    .dataframe tbody tr th {\n",
       "        vertical-align: top;\n",
       "    }\n",
       "\n",
       "    .dataframe thead th {\n",
       "        text-align: right;\n",
       "    }\n",
       "</style>\n",
       "<table border=\"1\" class=\"dataframe\">\n",
       "  <thead>\n",
       "    <tr style=\"text-align: right;\">\n",
       "      <th></th>\n",
       "      <th>New Deaths</th>\n",
       "      <th>rank</th>\n",
       "      <th>Population</th>\n",
       "      <th>MedianAge</th>\n",
       "      <th>MedianAgeMale</th>\n",
       "      <th>MedianAgeFemale</th>\n",
       "    </tr>\n",
       "  </thead>\n",
       "  <tbody>\n",
       "    <tr>\n",
       "      <th>count</th>\n",
       "      <td>40.000000</td>\n",
       "      <td>50.000000</td>\n",
       "      <td>5.000000e+01</td>\n",
       "      <td>50.000000</td>\n",
       "      <td>50.000000</td>\n",
       "      <td>50.000000</td>\n",
       "    </tr>\n",
       "    <tr>\n",
       "      <th>mean</th>\n",
       "      <td>18.150000</td>\n",
       "      <td>25.520000</td>\n",
       "      <td>6.444371e+06</td>\n",
       "      <td>38.324000</td>\n",
       "      <td>37.062000</td>\n",
       "      <td>39.608000</td>\n",
       "    </tr>\n",
       "    <tr>\n",
       "      <th>std</th>\n",
       "      <td>62.635924</td>\n",
       "      <td>14.612324</td>\n",
       "      <td>7.259747e+06</td>\n",
       "      <td>2.383922</td>\n",
       "      <td>2.195068</td>\n",
       "      <td>2.546293</td>\n",
       "    </tr>\n",
       "    <tr>\n",
       "      <th>min</th>\n",
       "      <td>1.000000</td>\n",
       "      <td>1.000000</td>\n",
       "      <td>5.818360e+05</td>\n",
       "      <td>30.700000</td>\n",
       "      <td>30.100000</td>\n",
       "      <td>31.300000</td>\n",
       "    </tr>\n",
       "    <tr>\n",
       "      <th>25%</th>\n",
       "      <td>1.000000</td>\n",
       "      <td>13.250000</td>\n",
       "      <td>1.847980e+06</td>\n",
       "      <td>36.900000</td>\n",
       "      <td>35.725000</td>\n",
       "      <td>38.050000</td>\n",
       "    </tr>\n",
       "    <tr>\n",
       "      <th>50%</th>\n",
       "      <td>3.000000</td>\n",
       "      <td>25.500000</td>\n",
       "      <td>4.551910e+06</td>\n",
       "      <td>38.300000</td>\n",
       "      <td>37.050000</td>\n",
       "      <td>39.650000</td>\n",
       "    </tr>\n",
       "    <tr>\n",
       "      <th>75%</th>\n",
       "      <td>5.500000</td>\n",
       "      <td>37.750000</td>\n",
       "      <td>7.207423e+06</td>\n",
       "      <td>39.375000</td>\n",
       "      <td>38.175000</td>\n",
       "      <td>40.875000</td>\n",
       "    </tr>\n",
       "    <tr>\n",
       "      <th>max</th>\n",
       "      <td>363.000000</td>\n",
       "      <td>51.000000</td>\n",
       "      <td>3.914876e+07</td>\n",
       "      <td>44.600000</td>\n",
       "      <td>43.200000</td>\n",
       "      <td>45.800000</td>\n",
       "    </tr>\n",
       "  </tbody>\n",
       "</table>\n",
       "</div>"
      ],
      "text/plain": [
       "       New Deaths       rank    Population  MedianAge  MedianAgeMale  \\\n",
       "count   40.000000  50.000000  5.000000e+01  50.000000      50.000000   \n",
       "mean    18.150000  25.520000  6.444371e+06  38.324000      37.062000   \n",
       "std     62.635924  14.612324  7.259747e+06   2.383922       2.195068   \n",
       "min      1.000000   1.000000  5.818360e+05  30.700000      30.100000   \n",
       "25%      1.000000  13.250000  1.847980e+06  36.900000      35.725000   \n",
       "50%      3.000000  25.500000  4.551910e+06  38.300000      37.050000   \n",
       "75%      5.500000  37.750000  7.207423e+06  39.375000      38.175000   \n",
       "max    363.000000  51.000000  3.914876e+07  44.600000      43.200000   \n",
       "\n",
       "       MedianAgeFemale  \n",
       "count        50.000000  \n",
       "mean         39.608000  \n",
       "std           2.546293  \n",
       "min          31.300000  \n",
       "25%          38.050000  \n",
       "50%          39.650000  \n",
       "75%          40.875000  \n",
       "max          45.800000  "
      ]
     },
     "execution_count": 8,
     "metadata": {},
     "output_type": "execute_result"
    }
   ],
   "source": [
    "df.describe()"
   ]
  },
  {
   "cell_type": "markdown",
   "metadata": {},
   "source": [
    "## 3) Data Preparation"
   ]
  },
  {
   "cell_type": "markdown",
   "metadata": {},
   "source": [
    "#### Clean\n",
    "\n",
    "Here we are going to clean our dataset. We are going to: \n",
    "\n",
    "1)Drop any unwanted column\n",
    "\n",
    "2)Replace special characters\n",
    "\n",
    "3)Convert object data type to numerical values \n",
    "\n",
    "4)Handle missing values"
   ]
  },
  {
   "cell_type": "code",
   "execution_count": 9,
   "metadata": {},
   "outputs": [
    {
     "data": {
      "text/html": [
       "<div>\n",
       "<style scoped>\n",
       "    .dataframe tbody tr th:only-of-type {\n",
       "        vertical-align: middle;\n",
       "    }\n",
       "\n",
       "    .dataframe tbody tr th {\n",
       "        vertical-align: top;\n",
       "    }\n",
       "\n",
       "    .dataframe thead th {\n",
       "        text-align: right;\n",
       "    }\n",
       "</style>\n",
       "<table border=\"1\" class=\"dataframe\">\n",
       "  <thead>\n",
       "    <tr style=\"text-align: right;\">\n",
       "      <th></th>\n",
       "      <th>Total Cases</th>\n",
       "      <th>New Cases</th>\n",
       "      <th>Total Deaths</th>\n",
       "      <th>New Deaths</th>\n",
       "      <th>Active Cases</th>\n",
       "      <th>Population</th>\n",
       "      <th>MedianAge</th>\n",
       "      <th>MedianAgeMale</th>\n",
       "      <th>MedianAgeFemale</th>\n",
       "    </tr>\n",
       "    <tr>\n",
       "      <th>State</th>\n",
       "      <th></th>\n",
       "      <th></th>\n",
       "      <th></th>\n",
       "      <th></th>\n",
       "      <th></th>\n",
       "      <th></th>\n",
       "      <th></th>\n",
       "      <th></th>\n",
       "      <th></th>\n",
       "    </tr>\n",
       "  </thead>\n",
       "  <tbody>\n",
       "    <tr>\n",
       "      <th>New York</th>\n",
       "      <td>60,679</td>\n",
       "      <td>7,286</td>\n",
       "      <td>1,063</td>\n",
       "      <td>180.0</td>\n",
       "      <td>56,044</td>\n",
       "      <td>19618453.0</td>\n",
       "      <td>38.7</td>\n",
       "      <td>37.1</td>\n",
       "      <td>40.2</td>\n",
       "    </tr>\n",
       "    <tr>\n",
       "      <th>New Jersey</th>\n",
       "      <td>13,386</td>\n",
       "      <td>2,262</td>\n",
       "      <td>161</td>\n",
       "      <td>21.0</td>\n",
       "      <td>13,225</td>\n",
       "      <td>8881845.0</td>\n",
       "      <td>39.8</td>\n",
       "      <td>38.2</td>\n",
       "      <td>41.4</td>\n",
       "    </tr>\n",
       "    <tr>\n",
       "      <th>California</th>\n",
       "      <td>6,204</td>\n",
       "      <td>655</td>\n",
       "      <td>131</td>\n",
       "      <td>12.0</td>\n",
       "      <td>6,052</td>\n",
       "      <td>39148760.0</td>\n",
       "      <td>36.3</td>\n",
       "      <td>35.2</td>\n",
       "      <td>37.5</td>\n",
       "    </tr>\n",
       "    <tr>\n",
       "      <th>Michigan</th>\n",
       "      <td>5,486</td>\n",
       "      <td>836</td>\n",
       "      <td>132</td>\n",
       "      <td>21.0</td>\n",
       "      <td>5,349</td>\n",
       "      <td>9957488.0</td>\n",
       "      <td>39.7</td>\n",
       "      <td>38.2</td>\n",
       "      <td>41.0</td>\n",
       "    </tr>\n",
       "    <tr>\n",
       "      <th>Massachusetts</th>\n",
       "      <td>4,955</td>\n",
       "      <td>698</td>\n",
       "      <td>48</td>\n",
       "      <td>4.0</td>\n",
       "      <td>4,906</td>\n",
       "      <td>6830193.0</td>\n",
       "      <td>39.4</td>\n",
       "      <td>37.9</td>\n",
       "      <td>40.9</td>\n",
       "    </tr>\n",
       "    <tr>\n",
       "      <th>Florida</th>\n",
       "      <td>4,950</td>\n",
       "      <td>912</td>\n",
       "      <td>60</td>\n",
       "      <td>4.0</td>\n",
       "      <td>4,890</td>\n",
       "      <td>20598139.0</td>\n",
       "      <td>41.9</td>\n",
       "      <td>40.3</td>\n",
       "      <td>43.5</td>\n",
       "    </tr>\n",
       "    <tr>\n",
       "      <th>Washington</th>\n",
       "      <td>4,896</td>\n",
       "      <td>586</td>\n",
       "      <td>200</td>\n",
       "      <td>11.0</td>\n",
       "      <td>4,276</td>\n",
       "      <td>7294336.0</td>\n",
       "      <td>37.6</td>\n",
       "      <td>36.6</td>\n",
       "      <td>38.7</td>\n",
       "    </tr>\n",
       "    <tr>\n",
       "      <th>Illinois</th>\n",
       "      <td>4,596</td>\n",
       "      <td>1,105</td>\n",
       "      <td>65</td>\n",
       "      <td>18.0</td>\n",
       "      <td>4,529</td>\n",
       "      <td>12821497.0</td>\n",
       "      <td>37.9</td>\n",
       "      <td>36.6</td>\n",
       "      <td>39.2</td>\n",
       "    </tr>\n",
       "    <tr>\n",
       "      <th>Louisiana</th>\n",
       "      <td>3,540</td>\n",
       "      <td>225</td>\n",
       "      <td>151</td>\n",
       "      <td>14.0</td>\n",
       "      <td>3,389</td>\n",
       "      <td>4663616.0</td>\n",
       "      <td>36.6</td>\n",
       "      <td>35.4</td>\n",
       "      <td>37.9</td>\n",
       "    </tr>\n",
       "    <tr>\n",
       "      <th>Pennsylvania</th>\n",
       "      <td>3,419</td>\n",
       "      <td>668</td>\n",
       "      <td>41</td>\n",
       "      <td>7.0</td>\n",
       "      <td>3,378</td>\n",
       "      <td>12791181.0</td>\n",
       "      <td>40.7</td>\n",
       "      <td>39.1</td>\n",
       "      <td>42.4</td>\n",
       "    </tr>\n",
       "  </tbody>\n",
       "</table>\n",
       "</div>"
      ],
      "text/plain": [
       "              Total Cases New Cases Total Deaths  New Deaths Active Cases  \\\n",
       "State                                                                       \n",
       "New York           60,679     7,286        1,063       180.0       56,044   \n",
       "New Jersey         13,386     2,262          161        21.0       13,225   \n",
       "California          6,204       655          131        12.0        6,052   \n",
       "Michigan            5,486       836          132        21.0        5,349   \n",
       "Massachusetts       4,955       698           48         4.0        4,906   \n",
       "Florida             4,950       912           60         4.0        4,890   \n",
       "Washington          4,896       586          200        11.0        4,276   \n",
       "Illinois            4,596     1,105           65        18.0        4,529   \n",
       "Louisiana           3,540       225          151        14.0        3,389   \n",
       "Pennsylvania        3,419       668           41         7.0        3,378   \n",
       "\n",
       "               Population  MedianAge  MedianAgeMale  MedianAgeFemale  \n",
       "State                                                                 \n",
       "New York       19618453.0       38.7           37.1             40.2  \n",
       "New Jersey      8881845.0       39.8           38.2             41.4  \n",
       "California     39148760.0       36.3           35.2             37.5  \n",
       "Michigan        9957488.0       39.7           38.2             41.0  \n",
       "Massachusetts   6830193.0       39.4           37.9             40.9  \n",
       "Florida        20598139.0       41.9           40.3             43.5  \n",
       "Washington      7294336.0       37.6           36.6             38.7  \n",
       "Illinois       12821497.0       37.9           36.6             39.2  \n",
       "Louisiana       4663616.0       36.6           35.4             37.9  \n",
       "Pennsylvania   12791181.0       40.7           39.1             42.4  "
      ]
     },
     "execution_count": 9,
     "metadata": {},
     "output_type": "execute_result"
    }
   ],
   "source": [
    "# Drop unused columns\n",
    "drop_columns = ['rank']\n",
    "df.drop(drop_columns, axis = 1, inplace = True)\n",
    "df.head(10)"
   ]
  },
  {
   "cell_type": "code",
   "execution_count": 10,
   "metadata": {},
   "outputs": [],
   "source": [
    "#Replace special characters\n",
    "df = df.replace({',':''},regex=True)"
   ]
  },
  {
   "cell_type": "code",
   "execution_count": 11,
   "metadata": {},
   "outputs": [
    {
     "name": "stdout",
     "output_type": "stream",
     "text": [
      "Total Cases         0\n",
      "New Cases           3\n",
      "Total Deaths        6\n",
      "New Deaths         18\n",
      "Active Cases        0\n",
      "Population          8\n",
      "MedianAge           8\n",
      "MedianAgeMale       8\n",
      "MedianAgeFemale     8\n",
      "dtype: int64\n"
     ]
    }
   ],
   "source": [
    "#Finding missing values\n",
    "print(df.isnull().sum())"
   ]
  },
  {
   "cell_type": "code",
   "execution_count": 12,
   "metadata": {},
   "outputs": [],
   "source": [
    "# convert object data type to numerical values \n",
    "df = df.apply(pd.to_numeric,errors='coerce')"
   ]
  },
  {
   "cell_type": "code",
   "execution_count": 13,
   "metadata": {},
   "outputs": [],
   "source": [
    "# handle missing values\n",
    "df.fillna(0,inplace=True)\n",
    "df.drop(df.tail(7).index,inplace=True)"
   ]
  },
  {
   "cell_type": "code",
   "execution_count": 14,
   "metadata": {},
   "outputs": [
    {
     "data": {
      "text/html": [
       "<div>\n",
       "<style scoped>\n",
       "    .dataframe tbody tr th:only-of-type {\n",
       "        vertical-align: middle;\n",
       "    }\n",
       "\n",
       "    .dataframe tbody tr th {\n",
       "        vertical-align: top;\n",
       "    }\n",
       "\n",
       "    .dataframe thead th {\n",
       "        text-align: right;\n",
       "    }\n",
       "</style>\n",
       "<table border=\"1\" class=\"dataframe\">\n",
       "  <thead>\n",
       "    <tr style=\"text-align: right;\">\n",
       "      <th></th>\n",
       "      <th>Total Cases</th>\n",
       "      <th>New Cases</th>\n",
       "      <th>Total Deaths</th>\n",
       "      <th>New Deaths</th>\n",
       "      <th>Active Cases</th>\n",
       "      <th>Population</th>\n",
       "      <th>MedianAge</th>\n",
       "      <th>MedianAgeMale</th>\n",
       "      <th>MedianAgeFemale</th>\n",
       "    </tr>\n",
       "    <tr>\n",
       "      <th>State</th>\n",
       "      <th></th>\n",
       "      <th></th>\n",
       "      <th></th>\n",
       "      <th></th>\n",
       "      <th></th>\n",
       "      <th></th>\n",
       "      <th></th>\n",
       "      <th></th>\n",
       "      <th></th>\n",
       "    </tr>\n",
       "  </thead>\n",
       "  <tbody>\n",
       "    <tr>\n",
       "      <th>New York</th>\n",
       "      <td>60679</td>\n",
       "      <td>7286.0</td>\n",
       "      <td>1063.0</td>\n",
       "      <td>180.0</td>\n",
       "      <td>56044</td>\n",
       "      <td>19618453.0</td>\n",
       "      <td>38.7</td>\n",
       "      <td>37.1</td>\n",
       "      <td>40.2</td>\n",
       "    </tr>\n",
       "    <tr>\n",
       "      <th>New Jersey</th>\n",
       "      <td>13386</td>\n",
       "      <td>2262.0</td>\n",
       "      <td>161.0</td>\n",
       "      <td>21.0</td>\n",
       "      <td>13225</td>\n",
       "      <td>8881845.0</td>\n",
       "      <td>39.8</td>\n",
       "      <td>38.2</td>\n",
       "      <td>41.4</td>\n",
       "    </tr>\n",
       "    <tr>\n",
       "      <th>California</th>\n",
       "      <td>6204</td>\n",
       "      <td>655.0</td>\n",
       "      <td>131.0</td>\n",
       "      <td>12.0</td>\n",
       "      <td>6052</td>\n",
       "      <td>39148760.0</td>\n",
       "      <td>36.3</td>\n",
       "      <td>35.2</td>\n",
       "      <td>37.5</td>\n",
       "    </tr>\n",
       "    <tr>\n",
       "      <th>Michigan</th>\n",
       "      <td>5486</td>\n",
       "      <td>836.0</td>\n",
       "      <td>132.0</td>\n",
       "      <td>21.0</td>\n",
       "      <td>5349</td>\n",
       "      <td>9957488.0</td>\n",
       "      <td>39.7</td>\n",
       "      <td>38.2</td>\n",
       "      <td>41.0</td>\n",
       "    </tr>\n",
       "    <tr>\n",
       "      <th>Massachusetts</th>\n",
       "      <td>4955</td>\n",
       "      <td>698.0</td>\n",
       "      <td>48.0</td>\n",
       "      <td>4.0</td>\n",
       "      <td>4906</td>\n",
       "      <td>6830193.0</td>\n",
       "      <td>39.4</td>\n",
       "      <td>37.9</td>\n",
       "      <td>40.9</td>\n",
       "    </tr>\n",
       "  </tbody>\n",
       "</table>\n",
       "</div>"
      ],
      "text/plain": [
       "               Total Cases  New Cases  Total Deaths  New Deaths  Active Cases  \\\n",
       "State                                                                           \n",
       "New York             60679     7286.0        1063.0       180.0         56044   \n",
       "New Jersey           13386     2262.0         161.0        21.0         13225   \n",
       "California            6204      655.0         131.0        12.0          6052   \n",
       "Michigan              5486      836.0         132.0        21.0          5349   \n",
       "Massachusetts         4955      698.0          48.0         4.0          4906   \n",
       "\n",
       "               Population  MedianAge  MedianAgeMale  MedianAgeFemale  \n",
       "State                                                                 \n",
       "New York       19618453.0       38.7           37.1             40.2  \n",
       "New Jersey      8881845.0       39.8           38.2             41.4  \n",
       "California     39148760.0       36.3           35.2             37.5  \n",
       "Michigan        9957488.0       39.7           38.2             41.0  \n",
       "Massachusetts   6830193.0       39.4           37.9             40.9  "
      ]
     },
     "execution_count": 14,
     "metadata": {},
     "output_type": "execute_result"
    }
   ],
   "source": [
    "df.head()"
   ]
  },
  {
   "cell_type": "markdown",
   "metadata": {},
   "source": [
    "## 4) Answer Questions\n",
    "\n",
    "### Analyse"
   ]
  },
  {
   "cell_type": "markdown",
   "metadata": {},
   "source": [
    "##### Q1): What are the parameters for the spread of COVID-19?"
   ]
  },
  {
   "cell_type": "code",
   "execution_count": 15,
   "metadata": {},
   "outputs": [],
   "source": [
    "# add two columns to define rank based on Population & MedianAge\n",
    "\n",
    "df['PopulationRank'] = df['Population'].rank(ascending=False).astype(int)\n",
    "df['MedianAgeRank'] = df['MedianAge'].rank(ascending=False).astype(int)\n",
    "\n",
    "spread = df[['Total Cases','PopulationRank','Population']].sort_values(by=['Total Cases'],ascending=False)"
   ]
  },
  {
   "cell_type": "markdown",
   "metadata": {},
   "source": [
    "### Visualize"
   ]
  },
  {
   "cell_type": "code",
   "execution_count": 16,
   "metadata": {},
   "outputs": [
    {
     "data": {
      "image/png": "[encoded data removed]",
      "text/plain": [
       "<Figure size 432x288 with 2 Axes>"
      ]
     },
     "metadata": {
      "needs_background": "light"
     },
     "output_type": "display_data"
    }
   ],
   "source": [
    "sns.heatmap(df.corr().abs(), annot=True, fmt=\".2f\");"
   ]
  },
  {
   "cell_type": "code",
   "execution_count": 17,
   "metadata": {},
   "outputs": [
    {
     "data": {
      "image/png": "[encoded data removed]",
      "text/plain": [
       "<Figure size 432x288 with 1 Axes>"
      ]
     },
     "metadata": {
      "needs_background": "light"
     },
     "output_type": "display_data"
    }
   ],
   "source": [
    "spread['Total Cases'].head().plot(kind='bar')\n",
    "plt.title('Highest Cases States');"
   ]
  },
  {
   "cell_type": "code",
   "execution_count": 18,
   "metadata": {},
   "outputs": [
    {
     "data": {
      "image/png": "[encoded data removed]",
      "text/plain": [
       "<Figure size 432x288 with 1 Axes>"
      ]
     },
     "metadata": {
      "needs_background": "light"
     },
     "output_type": "display_data"
    }
   ],
   "source": [
    "spread['PopulationRank'].head().plot(kind='bar')\n",
    "plt.title('Highest populated States');"
   ]
  },
  {
   "cell_type": "markdown",
   "metadata": {},
   "source": [
    "##### After merging COVID-19 cases and statewide demographics results shows the population is directly proportioned to total cases. Considered 15 most reported cases states and ranked all the states based on Total Population.\n",
    "\n",
    "##### California, Texas, Florida, New York, and Illinois have the highest population in the order mentioned.\n",
    "\n",
    "##### The virus is spreading exponentially in states where there is more population. So the population will be one of the key factors for cases.\n",
    "\n",
    "##### As per the heatmap, the population has the highest degree of correlation with the spread(Total Cases).\n",
    "\n",
    "\n",
    "\n",
    "\n"
   ]
  },
  {
   "cell_type": "markdown",
   "metadata": {},
   "source": [
    "#### Q2) What are the most death rate states in the USA and why?\n",
    "\n",
    "\n",
    "#### Analyse"
   ]
  },
  {
   "cell_type": "code",
   "execution_count": 19,
   "metadata": {},
   "outputs": [],
   "source": [
    "#Calculate death rata\n",
    "df['DeathRate'] = (df['Total Deaths']/df['Total Cases'])*100"
   ]
  },
  {
   "cell_type": "code",
   "execution_count": 20,
   "metadata": {},
   "outputs": [
    {
     "data": {
      "text/html": [
       "<div>\n",
       "<style scoped>\n",
       "    .dataframe tbody tr th:only-of-type {\n",
       "        vertical-align: middle;\n",
       "    }\n",
       "\n",
       "    .dataframe tbody tr th {\n",
       "        vertical-align: top;\n",
       "    }\n",
       "\n",
       "    .dataframe thead th {\n",
       "        text-align: right;\n",
       "    }\n",
       "</style>\n",
       "<table border=\"1\" class=\"dataframe\">\n",
       "  <thead>\n",
       "    <tr style=\"text-align: right;\">\n",
       "      <th></th>\n",
       "      <th>DeathRate</th>\n",
       "      <th>MedianAge</th>\n",
       "    </tr>\n",
       "    <tr>\n",
       "      <th>State</th>\n",
       "      <th></th>\n",
       "      <th></th>\n",
       "    </tr>\n",
       "  </thead>\n",
       "  <tbody>\n",
       "    <tr>\n",
       "      <th>Vermont</th>\n",
       "      <td>5.106383</td>\n",
       "      <td>42.9</td>\n",
       "    </tr>\n",
       "    <tr>\n",
       "      <th>Louisiana</th>\n",
       "      <td>4.265537</td>\n",
       "      <td>36.6</td>\n",
       "    </tr>\n",
       "    <tr>\n",
       "      <th>Washington</th>\n",
       "      <td>4.084967</td>\n",
       "      <td>37.6</td>\n",
       "    </tr>\n",
       "    <tr>\n",
       "      <th>Oklahoma</th>\n",
       "      <td>3.729604</td>\n",
       "      <td>36.4</td>\n",
       "    </tr>\n",
       "    <tr>\n",
       "      <th>Georgia</th>\n",
       "      <td>3.093552</td>\n",
       "      <td>36.5</td>\n",
       "    </tr>\n",
       "    <tr>\n",
       "      <th>Delaware</th>\n",
       "      <td>2.586207</td>\n",
       "      <td>40.2</td>\n",
       "    </tr>\n",
       "    <tr>\n",
       "      <th>Virginia</th>\n",
       "      <td>2.471910</td>\n",
       "      <td>38.1</td>\n",
       "    </tr>\n",
       "    <tr>\n",
       "      <th>Michigan</th>\n",
       "      <td>2.406125</td>\n",
       "      <td>39.7</td>\n",
       "    </tr>\n",
       "    <tr>\n",
       "      <th>Oregon</th>\n",
       "      <td>2.372263</td>\n",
       "      <td>39.2</td>\n",
       "    </tr>\n",
       "    <tr>\n",
       "      <th>District Of Columbia</th>\n",
       "      <td>2.244389</td>\n",
       "      <td>0.0</td>\n",
       "    </tr>\n",
       "  </tbody>\n",
       "</table>\n",
       "</div>"
      ],
      "text/plain": [
       "                      DeathRate  MedianAge\n",
       "State                                     \n",
       "Vermont                5.106383       42.9\n",
       "Louisiana              4.265537       36.6\n",
       "Washington             4.084967       37.6\n",
       "Oklahoma               3.729604       36.4\n",
       "Georgia                3.093552       36.5\n",
       "Delaware               2.586207       40.2\n",
       "Virginia               2.471910       38.1\n",
       "Michigan               2.406125       39.7\n",
       "Oregon                 2.372263       39.2\n",
       "District Of Columbia   2.244389        0.0"
      ]
     },
     "execution_count": 20,
     "metadata": {},
     "output_type": "execute_result"
    }
   ],
   "source": [
    "deathrate = df.sort_values(by=['DeathRate'],ascending=False)\n",
    "deathrate[['DeathRate','MedianAge']].head(10)"
   ]
  },
  {
   "cell_type": "markdown",
   "metadata": {},
   "source": [
    "#### Visualize"
   ]
  },
  {
   "cell_type": "code",
   "execution_count": 21,
   "metadata": {},
   "outputs": [
    {
     "data": {
      "image/png": "[encoded data removed]",
      "text/plain": [
       "<Figure size 432x288 with 1 Axes>"
      ]
     },
     "metadata": {
      "needs_background": "light"
     },
     "output_type": "display_data"
    }
   ],
   "source": [
    "deathrate['DeathRate'][:10].plot(kind='bar');\n",
    "plt.title('Highest death rate states');"
   ]
  },
  {
   "cell_type": "markdown",
   "metadata": {},
   "source": [
    "##### Here I have tried to correlate the Median Age with death rate(% of Total Deaths/Total Cases). Surprisingly Higher Median Age states have the highest death rate."
   ]
  },
  {
   "cell_type": "markdown",
   "metadata": {},
   "source": [
    "### Q3).Which states are going to be next hotspots in the USA?\n",
    "\n",
    "#### analyze"
   ]
  },
  {
   "cell_type": "code",
   "execution_count": 22,
   "metadata": {},
   "outputs": [
    {
     "data": {
      "text/html": [
       "<div>\n",
       "<style scoped>\n",
       "    .dataframe tbody tr th:only-of-type {\n",
       "        vertical-align: middle;\n",
       "    }\n",
       "\n",
       "    .dataframe tbody tr th {\n",
       "        vertical-align: top;\n",
       "    }\n",
       "\n",
       "    .dataframe thead th {\n",
       "        text-align: right;\n",
       "    }\n",
       "</style>\n",
       "<table border=\"1\" class=\"dataframe\">\n",
       "  <thead>\n",
       "    <tr style=\"text-align: right;\">\n",
       "      <th></th>\n",
       "      <th>Total Cases</th>\n",
       "      <th>Total Deaths</th>\n",
       "      <th>DeathRate</th>\n",
       "      <th>PopulationRank</th>\n",
       "      <th>MedianAge</th>\n",
       "    </tr>\n",
       "    <tr>\n",
       "      <th>State</th>\n",
       "      <th></th>\n",
       "      <th></th>\n",
       "      <th></th>\n",
       "      <th></th>\n",
       "      <th></th>\n",
       "    </tr>\n",
       "  </thead>\n",
       "  <tbody>\n",
       "    <tr>\n",
       "      <th>California</th>\n",
       "      <td>6204</td>\n",
       "      <td>131.0</td>\n",
       "      <td>2.111541</td>\n",
       "      <td>1</td>\n",
       "      <td>36.3</td>\n",
       "    </tr>\n",
       "    <tr>\n",
       "      <th>Texas</th>\n",
       "      <td>2808</td>\n",
       "      <td>38.0</td>\n",
       "      <td>1.353276</td>\n",
       "      <td>2</td>\n",
       "      <td>34.4</td>\n",
       "    </tr>\n",
       "    <tr>\n",
       "      <th>Florida</th>\n",
       "      <td>4950</td>\n",
       "      <td>60.0</td>\n",
       "      <td>1.212121</td>\n",
       "      <td>3</td>\n",
       "      <td>41.9</td>\n",
       "    </tr>\n",
       "    <tr>\n",
       "      <th>New York</th>\n",
       "      <td>60679</td>\n",
       "      <td>1063.0</td>\n",
       "      <td>1.751842</td>\n",
       "      <td>4</td>\n",
       "      <td>38.7</td>\n",
       "    </tr>\n",
       "    <tr>\n",
       "      <th>Illinois</th>\n",
       "      <td>4596</td>\n",
       "      <td>65.0</td>\n",
       "      <td>1.414273</td>\n",
       "      <td>5</td>\n",
       "      <td>37.9</td>\n",
       "    </tr>\n",
       "    <tr>\n",
       "      <th>Pennsylvania</th>\n",
       "      <td>3419</td>\n",
       "      <td>41.0</td>\n",
       "      <td>1.199181</td>\n",
       "      <td>6</td>\n",
       "      <td>40.7</td>\n",
       "    </tr>\n",
       "    <tr>\n",
       "      <th>Ohio</th>\n",
       "      <td>1653</td>\n",
       "      <td>29.0</td>\n",
       "      <td>1.754386</td>\n",
       "      <td>7</td>\n",
       "      <td>39.3</td>\n",
       "    </tr>\n",
       "    <tr>\n",
       "      <th>Georgia</th>\n",
       "      <td>2683</td>\n",
       "      <td>83.0</td>\n",
       "      <td>3.093552</td>\n",
       "      <td>8</td>\n",
       "      <td>36.5</td>\n",
       "    </tr>\n",
       "    <tr>\n",
       "      <th>North Carolina</th>\n",
       "      <td>1167</td>\n",
       "      <td>7.0</td>\n",
       "      <td>0.599829</td>\n",
       "      <td>9</td>\n",
       "      <td>38.6</td>\n",
       "    </tr>\n",
       "    <tr>\n",
       "      <th>Michigan</th>\n",
       "      <td>5486</td>\n",
       "      <td>132.0</td>\n",
       "      <td>2.406125</td>\n",
       "      <td>10</td>\n",
       "      <td>39.7</td>\n",
       "    </tr>\n",
       "  </tbody>\n",
       "</table>\n",
       "</div>"
      ],
      "text/plain": [
       "                Total Cases  Total Deaths  DeathRate  PopulationRank  \\\n",
       "State                                                                  \n",
       "California             6204         131.0   2.111541               1   \n",
       "Texas                  2808          38.0   1.353276               2   \n",
       "Florida                4950          60.0   1.212121               3   \n",
       "New York              60679        1063.0   1.751842               4   \n",
       "Illinois               4596          65.0   1.414273               5   \n",
       "Pennsylvania           3419          41.0   1.199181               6   \n",
       "Ohio                   1653          29.0   1.754386               7   \n",
       "Georgia                2683          83.0   3.093552               8   \n",
       "North Carolina         1167           7.0   0.599829               9   \n",
       "Michigan               5486         132.0   2.406125              10   \n",
       "\n",
       "                MedianAge  \n",
       "State                      \n",
       "California           36.3  \n",
       "Texas                34.4  \n",
       "Florida              41.9  \n",
       "New York             38.7  \n",
       "Illinois             37.9  \n",
       "Pennsylvania         40.7  \n",
       "Ohio                 39.3  \n",
       "Georgia              36.5  \n",
       "North Carolina       38.6  \n",
       "Michigan             39.7  "
      ]
     },
     "execution_count": 22,
     "metadata": {},
     "output_type": "execute_result"
    }
   ],
   "source": [
    "spots = df.sort_values(by=['PopulationRank','MedianAge'])\n",
    "spots[['Total Cases','Total Deaths','DeathRate','PopulationRank','MedianAge']].head(10)"
   ]
  },
  {
   "cell_type": "markdown",
   "metadata": {},
   "source": [
    "#### visualize"
   ]
  },
  {
   "cell_type": "code",
   "execution_count": 23,
   "metadata": {},
   "outputs": [
    {
     "data": {
      "image/png": "[encoded data removed]",
      "text/plain": [
       "<Figure size 432x288 with 1 Axes>"
      ]
     },
     "metadata": {
      "needs_background": "light"
     },
     "output_type": "display_data"
    }
   ],
   "source": [
    "spots[['Population']][:10].plot(kind='bar');\n",
    "plt.title('Highest Populated States');"
   ]
  },
  {
   "cell_type": "code",
   "execution_count": 24,
   "metadata": {},
   "outputs": [
    {
     "data": {
      "image/png": "[encoded data removed]",
      "text/plain": [
       "<Figure size 432x288 with 1 Axes>"
      ]
     },
     "metadata": {
      "needs_background": "light"
     },
     "output_type": "display_data"
    }
   ],
   "source": [
    "\n",
    "spots[['MedianAge']][:10].sort_values(by=['MedianAge'], ascending=False).plot(kind='bar');\n",
    "plt.title('Highest MedianAge States');"
   ]
  },
  {
   "cell_type": "markdown",
   "metadata": {},
   "source": [
    "##### If we consider Population and MedianAge as factors for spread and death rate, the following states will be hotspots for COVID-19.\n",
    "\n",
    "\n",
    "##### Though California and Texas have the highest population, Florida and Pennsylvania can be more impacted because of the highest Median Age factor."
   ]
  },
  {
   "cell_type": "markdown",
   "metadata": {},
   "source": [
    "## 6) Conclusion"
   ]
  },
  {
   "cell_type": "markdown",
   "metadata": {},
   "source": [
    "#### In current situations, the US government is concentrating on testing and treating patients. Parallelly they should work to stop the spreadings.\n",
    "\n",
    "\n",
    "##### Especially aged and people under severe medical conditions need to be more precautious as the survival rate for them will be very minimal."
   ]
  },
  {
   "cell_type": "code",
   "execution_count": null,
   "metadata": {},
   "outputs": [],
   "source": []
  }
 ],
 "metadata": {
  "kernelspec": {
   "display_name": "Python 3",
   "language": "python",
   "name": "python3"
  },
  "language_info": {
   "codemirror_mode": {
    "name": "ipython",
    "version": 3
   },
   "file_extension": ".py",
   "mimetype": "text/x-python",
   "name": "python",
   "nbconvert_exporter": "python",
   "pygments_lexer": "ipython3",
   "version": "3.7.3"
  }
 },
 "nbformat": 4,
 "nbformat_minor": 4
}
